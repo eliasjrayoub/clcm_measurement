{
 "cells": [
  {
   "cell_type": "code",
   "execution_count": 7,
   "metadata": {
    "extensions": {
     "jupyter_dashboards": {
      "version": 1,
      "views": {
       "grid_default": {
        "col": 0,
        "height": 4,
        "hidden": false,
        "row": 0,
        "width": 4
       },
       "report_default": {}
      }
     }
    }
   },
   "outputs": [
    {
     "data": {
      "text/html": [
       "<script>requirejs.config({paths: { 'plotly': ['https://cdn.plot.ly/plotly-latest.min']},});if(!window.Plotly) {{require(['plotly'],function(plotly) {window.Plotly=plotly;});}}</script>"
      ],
      "text/vnd.plotly.v1+html": [
       "<script>requirejs.config({paths: { 'plotly': ['https://cdn.plot.ly/plotly-latest.min']},});if(!window.Plotly) {{require(['plotly'],function(plotly) {window.Plotly=plotly;});}}</script>"
      ]
     },
     "metadata": {},
     "output_type": "display_data"
    }
   ],
   "source": [
    "import importlib\n",
    "\n",
    "import pandas as pd\n",
    "import numpy as np \n",
    "import csv\n",
    "import math\n",
    "import credentials; importlib.reload(credentials)\n",
    "import plotly.graph_objs as go\n",
    "from plotly.offline import download_plotlyjs, init_notebook_mode, plot, iplot \n",
    "import queries\n",
    "import measurement as mt \n",
    "from datetime import date\n",
    "from dateutil.relativedelta import relativedelta\n",
    "from datetime import datetime\n",
    "date_format = \"%Y%m%d\"\n",
    "from IPython.display import Markdown\n",
    "import os\n",
    "\n",
    "#import widgets \n",
    "from __future__ import print_function\n",
    "from ipywidgets import interact, interactive, fixed, interact_manual\n",
    "import ipywidgets as widgets\n",
    "\n",
    "#import plotly \n",
    "import plotly as py \n",
    "import plotly.graph_objs as go\n",
    "import ipywidgets as widgets\n",
    "import numpy as np\n",
    "from scipy import special\n",
    "\n",
    "py.offline.init_notebook_mode(connected=True)\n",
    "\n",
    "%reload_ext autoreload\n",
    "%autoreload 2\n",
    "\n",
    "%reload_ext sql "
   ]
  },
  {
   "cell_type": "code",
   "execution_count": 8,
   "metadata": {
    "extensions": {
     "jupyter_dashboards": {
      "version": 1,
      "views": {
       "grid_default": {
        "hidden": true
       },
       "report_default": {}
      }
     }
    }
   },
   "outputs": [],
   "source": [
    "savepath = '/Users/eliasayoub/Documents/CLCM/Measurement Dashboard'"
   ]
  },
  {
   "cell_type": "code",
   "execution_count": 176,
   "metadata": {
    "extensions": {
     "jupyter_dashboards": {
      "version": 1,
      "views": {
       "grid_default": {
        "hidden": true
       },
       "report_default": {}
      }
     }
    }
   },
   "outputs": [],
   "source": [
    "#wraps around a sql query that is incoming from another file\n",
    "def Query(q):\n",
    "    result = %sql $q\n",
    "    return result.DataFrame()\n",
    "\n",
    "# #removes duplicates\n",
    "def remove_dup(df):\n",
    "    if len(df)>2:\n",
    "        cleaned = df.drop_duplicates(subset='contacted', keep='first')\n",
    "        return cleaned\n",
    "    else:\n",
    "        return df\n",
    "\n",
    "\n",
    "def pre_acv_atv_atf(start_dt, pre_period_days):\n",
    "    from datetime import date\n",
    "    from dateutil.relativedelta import relativedelta\n",
    "    from datetime import datetime\n",
    "    date_format = \"%Y%m%d\"\n",
    "    import queries\n",
    "    \n",
    "    a = datetime.strptime(str(start_dt), date_format)\n",
    "\n",
    "    norm_start = a - relativedelta(days=pre_period_days) #range of pre-period \n",
    "    norm_end = a - relativedelta(days=1)\n",
    "    pre_start_dt = norm_start.strftime(\"%Y%m%d\")\n",
    "    pre_end_dt = norm_end.strftime(\"%Y%m%d\") ##good so far!\n",
    "\n",
    "    def Query(q):\n",
    "        result = %sql $q\n",
    "        return result.DataFrame()\n",
    "    \n",
    "    hist = Query(queries.acv_check(campaign_name, pre_start_dt, pre_end_dt, id_seg))\n",
    "    \n",
    "    def cx_check(metrics_table, hist):\n",
    "        cx = pd.DataFrame({\n",
    "        'ACV' : [metrics_table.loc['ACV','Target'], metrics_table.loc['ACV','Control']],\n",
    "        'ATV' : [metrics_table.loc['ATV', 'Target'], metrics_table.loc['ATV','Control']],\n",
    "        'ATF' : [metrics_table.loc['ATF', 'Target'], metrics_table.loc['ATF','Control']],\n",
    "        'Group' : ['Target', 'Control']\n",
    "        })\n",
    "        cx = cx.set_index('Group')\n",
    "\n",
    "\n",
    "        hist = hist.groupby('control').sum()\n",
    "\n",
    "        hist1 = pd.DataFrame()\n",
    "        hist1['ACV Pre'] = hist.loc['N', 'sales']/hist.loc['N', 'universe'], hist.loc['Y', 'sales']/hist.loc['Y', 'universe']\n",
    "        hist1['ATV Pre'] = hist.loc['N', 'sales']/hist.loc['N', 'trans'], hist.loc['Y', 'sales']/hist.loc['Y', 'trans']\n",
    "        hist1['ATF Pre'] = hist.loc['N', 'trans']/hist.loc['N', 'universe'], hist.loc['Y', 'trans']/hist.loc['Y', 'universe']\n",
    "        hist1['Group'] = ['Target', 'Control']\n",
    "        hist1 = hist1.set_index('Group')\n",
    "\n",
    "\n",
    "        hist1 = hist1.round(2)\n",
    "\n",
    "\n",
    "        both = pd.concat([cx,hist1], axis=1)\n",
    "        both = both[['ACV', 'ACV Pre', 'ATV', 'ATV Pre', 'ATF', 'ATF Pre']]\n",
    "\n",
    "        return both\n",
    "    \n",
    "    check_metrics = cx_check(metrics_table, hist)\n",
    "    return check_metrics\n",
    "\n",
    "\n",
    "def intWithCommas(x):\n",
    "    if type(x) not in [type(0), type(int)]:\n",
    "        raise TypeError(\"Parameter must be an integer.\")\n",
    "    if x < 0:\n",
    "        return '-' + intWithCommas(-x)\n",
    "    result = ''\n",
    "    while x >= 1000:\n",
    "        x, r = divmod(x, 1000)\n",
    "        result = \",%03d%s\" % (r, result)\n",
    "    return \"%d%s\" % (x, result)\n",
    "    \n",
    "    \n",
    "def normalize_q(norm_start, norm_end, campaign_name, id_seg, id_treatment):\n",
    "    \n",
    "    pre_period_query = \"\"\"\n",
    "    with contacts as( \n",
    "    select distinct campaign_name, treatment_name, segment_name, \n",
    "    case when control_group_flag='Y' \n",
    "    or segment_name like '%CTRL%' \n",
    "    or segment_name like '%_CT%' \n",
    "    or segment_name like '%CONTRL%'\n",
    "    or segment_name like '%CONTROL%'\n",
    "    or segment_name like '%_CT_%'\n",
    "    or segment_name like '%control%'\n",
    "    or segment_name like '%Control%'\n",
    "    or campaign_name like '%CT%'\n",
    "    \n",
    "    then 'Y' else 'N' end as control,\n",
    "    contact_key, campaign_start_dt, campaign_end_dt\n",
    "\n",
    "    from rawdata.b_camp_offer_rk a join rawdata.b_camp_contact_rk b using (camp_offer_key)\n",
    "\n",
    "    where campaign_name like '{campaign_name}'\n",
    "    and {id_seg}\n",
    "    and {id_treatment}\n",
    "    ),\n",
    "\n",
    "    segment as(\n",
    "    select distinct campaign_name, treatment_name, segment_name, \n",
    "    case when control_group_flag='Y' \n",
    "    or segment_name like '%CTRL%' \n",
    "    or segment_name like '%_CT%' \n",
    "    or segment_name like '%CONTRL%'\n",
    "    or segment_name like '%CONTROL%'\n",
    "    or segment_name like '%_CT_%'\n",
    "    or segment_name like '%control%'\n",
    "    or segment_name like '%Control%'\n",
    "    or campaign_name like '%CT%'\n",
    "      \n",
    "    then 'Y' else 'N' end as control,\n",
    "    count(distinct contact_key) as contacted \n",
    "\n",
    "    from rawdata.b_camp_offer_rk join rawdata.b_camp_contact_rk using (camp_offer_key)\n",
    "\n",
    "    where campaign_name like '{campaign_name}'\n",
    "    and {id_seg}\n",
    "    and {id_treatment}\n",
    "\n",
    "    group by 1,2,3,4\n",
    "    ),\n",
    " \n",
    "    trans as (\n",
    "    select * from rawdata.b_transaction_rk\n",
    "    where transaction_dt_key >= {norm_start} and transaction_dt_key <= {norm_end}\n",
    "    and contact_key > 0\n",
    "    and transaction_type_name = 'Item'\n",
    "    )\n",
    "\n",
    "    select campaign_name, treatment_name, segment_name, control, contacted,\n",
    "    count(distinct b.contact_key)::int as active, \n",
    "    sum(item_amt)::float as act_sales,\n",
    "    sum(item_spread_discount_amt)::float as act_discount,\n",
    "    count(distinct b.order_num)::int as act_trans,\n",
    "    sum(item_quantity_val)::int as act_items\n",
    "\n",
    "    from contacts a\n",
    "    left join trans b on a.contact_key = b.contact_key\n",
    "    join segment using (campaign_name, treatment_name, segment_name, control)\n",
    "\n",
    "\n",
    "    group by 1,2,3,4,5 \"\"\".format(campaign_name=campaign_name, id_seg=id_seg, norm_start=norm_start, norm_end=norm_end, id_treatment=id_treatment)\n",
    "    \n",
    "    result = %sql $pre_period_query\n",
    "    pre_query = result.DataFrame()\n",
    "    return pre_query\n",
    "\n",
    "    \n",
    "    \n",
    "\n",
    "\n",
    "\n",
    "\n",
    "\n",
    "\n",
    "#save metrics table and notebook to directory named after the campaign name\n",
    "def save(metrics_table, savepath, title): \n",
    "    import os\n",
    "    new_path = savepath + '/PCA-' + title\n",
    "    \n",
    "    if not os.path.exists(new_path):\n",
    "        os.makedirs(new_path)\n",
    "      \n",
    "    file_name = '/PCA-' + title + '.ipynb'\n",
    "    os.rename(savepath+'/copy_of_dashboard.ipynb', new_path+file_name)\n",
    "    metrics_table.to_csv(new_path + '/PCA-' + title + '.csv', index=True)\n",
    "    return \"saved to \" + new_path\n",
    "\n",
    "\n",
    "#appends results to a summary tracker - to be used in this notebook\n",
    "def append_results(tracker_path, metrics_table, channel, segment, campaign_type):\n",
    "    #default inputs:\n",
    "    camp_count = 1\n",
    "    program = \"Managed Campaigns\" \n",
    "    date = start_dt \n",
    "\n",
    "    sales = metrics_table.loc['Total Sales','Target']\n",
    "    incremental = metrics_table.loc['Incremental Sales', 'Target']\n",
    "    touchpoints = metrics_table.loc['Universe', 'Target']\n",
    "    resp_rate = float(metrics_table.loc['Active Members', 'Target'])/float(metrics_table.loc['Universe', 'Target'])\n",
    "    \n",
    "    tracker = pd.read_csv(tracker_path)\n",
    "    index =['Campaign Name', 'Campaign Count', 'Program', 'BU', 'Channel', 'Segment', 'Start Date', 'End Date', 'Rubikloud Value Added', 'Sales', 'RK Incremental', 'Touchpoints', 'Response Rate']\n",
    "    row = pd.Series([title, camp_count, program, BU, channel, segment, date, campaign_type, sales, incremental, touchpoints, resp_rate]\n",
    "                , index=index)\n",
    "    updated_tracker = tracker.append(row, ignore_index=True)\n",
    "    return updated_tracker\n",
    "\n",
    "#new, probably still doesnt work: \n",
    "def append_results(tracker_path, metrics_table, channel, segment, models_used):\n",
    "    #default inputs:\n",
    "    camp_count = 1\n",
    "    program = \"Managed Campaigns\" \n",
    "    date = start_dt \n",
    "\n",
    "    sales = metrics_table.loc['Total Sales','Target']\n",
    "    incremental = metrics_table.loc['Incremental Sales', 'Target']\n",
    "    touchpoints = metrics_table.loc['Universe', 'Target']\n",
    "    resp_rate = float(metrics_table.loc['Active Members', 'Target'])/float(metrics_table.loc['Universe', 'Target'])\n",
    "    \n",
    "    tracker = pd.read_csv(tracker_path)\n",
    "    index =['Campaign Name', 'Campaign Count', 'Program', 'BU', 'Channel', 'Segment', 'Start Date', 'End Date', 'Rubikloud Value Added', 'Sales', 'RK Incremental', 'Touchpoints', 'Response Rate']\n",
    "    row = pd.Series([title, camp_count, program, BU, channel, segment, date, models_used, sales, incremental, touchpoints, resp_rate]\n",
    "                , index=index)\n",
    "    updated_tracker = tracker.append(row, ignore_index=True)\n",
    "    return updated_tracker\n",
    "\n",
    "\n",
    "\n",
    "# def compare_uplift(tracker_path, channel, segment):\n",
    "#     table = pd.read_csv(tracker_path, error_bad_lines=False, header=0)\n",
    "#     similar_campaigns = table[table.Channel.str.contains(channel) == True \n",
    "#                                          & table.Segment.str.contains(segment) == True]\n",
    "    \n",
    "#     avg_uplift = similar_campaigns.groupby('')\n",
    "    \n",
    "#save the dataframe tracker to a csv tracker\n",
    "def to_tracker(appended_df, savepath):\n",
    "    dt = date.today() \n",
    "    dt = dt.strftime(\"%Y%m%d\")\n",
    "    name = appended_df.iloc[-1,0]\n",
    "    appended_df.to_csv(savepath+\"Results_Tracker_\"+dt+\".csv\", index=False)\n",
    "    return \"Campaign \"+name + \" has been appended\"\n",
    "\n",
    "#working:\n",
    "\n",
    "    \n"
   ]
  },
  {
   "cell_type": "markdown",
   "metadata": {
    "extensions": {
     "jupyter_dashboards": {
      "version": 1,
      "views": {
       "grid_default": {
        "col": 5,
        "height": 4,
        "hidden": false,
        "row": 0,
        "width": 4
       },
       "report_default": {}
      }
     }
    }
   },
   "source": [
    "### Input Measurement Details Here:"
   ]
  },
  {
   "cell_type": "code",
   "execution_count": 177,
   "metadata": {
    "extensions": {
     "jupyter_dashboards": {
      "version": 1,
      "views": {
       "grid_default": {
        "hidden": true
       },
       "report_default": {}
      }
     }
    }
   },
   "outputs": [],
   "source": [
    "##ANALYST INPUTS##\n",
    "BU = 'MAT'\n",
    "\n",
    "campaign_name = '%MAT_1117_EC_Cybermonday%' #An approximate match; use % \n",
    "start_dt = 20171127 #YYYYMMDD - ensure dates are provided by the client as PM dates can be inacurate\n",
    "end_dt = 20171130\n",
    "segments = ['%'] #Alternative identifier for a campaigN\n",
    "treatments = ['%'] #Alternative identifier for a campaign\n",
    "top_channel = 'Email'  #Email, SMS, DM\n",
    "seg_start = '2017-11-26' #YYYY-MM-DD\n",
    "\n",
    "#Optional#\n",
    "#If you use the custom query, you don't need the above inputs except for BU \n",
    "custom_query = \"\"\"\n",
    "\n",
    "with contacts as( \n",
    "select distinct campaign_name, segment_name, contact_key, campaign_start_dt, campaign_end_dt, treatment_name\n",
    "\n",
    "from rawdata.b_camp_offer_rk a join rawdata.b_camp_contact_rk b using (camp_offer_key)\n",
    "\n",
    "where campaign_name like '%1711MRKE W48 LOREAL (aswOP8336)%'\n",
    "--and segment_name like '{id_seg}%'\n",
    "--and treatment_name like '{id_treatment}%'\n",
    "),\n",
    "\n",
    "segment as(\n",
    "select distinct campaign_name,segment_name, treatment_name,\n",
    "\n",
    "\n",
    "\n",
    "count(distinct contact_key) as contacted \n",
    "\n",
    "from rawdata.b_camp_offer_rk join rawdata.b_camp_contact_rk using (camp_offer_key)\n",
    "\n",
    "where campaign_name like '%1711MRKE W48 LOREAL (aswOP8336)%'\n",
    "--and segment_name like '{id_seg}%'\n",
    "--and treatment_name like '{id_treatment}%'\n",
    "\n",
    "group by 1,2,3\n",
    "),\n",
    "\n",
    "trans as (\n",
    "select * from rawdata.b_transaction_rk\n",
    "where transaction_dt_key >= 20171127 and transaction_dt_key <= 20171127 --YYYMMDD\n",
    "and contact_key > 0\n",
    "and transaction_type_name = 'Item'\n",
    ")\n",
    "\n",
    "\n",
    "select campaign_name, segment_name, a.treatment_name, \n",
    "case when a.treatment_name = '359371207-aswOFRDummyOfferForExportMFR-359371207' then 'Y' else 'N' end as control,\n",
    "contacted,\n",
    "count(distinct b.contact_key)::int as active, \n",
    "sum(item_amt)::float as act_sales,\n",
    "sum(item_spread_discount_amt)::float as act_discount,\n",
    "count(distinct b.order_num)::int as act_trans,\n",
    "sum(item_quantity_val)::int as act_items\n",
    "\n",
    "from contacts a\n",
    "\n",
    "left join trans b on a.contact_key = b.contact_key\n",
    "join rawdata.b_product_rk using (product_key) \n",
    "join segment using (campaign_name, segment_name)\n",
    "\n",
    "--where treatment_name not like '%Dummy%'\n",
    "\n",
    "--where product_sku in ('100257559', '100375256', '100947111', '100004208', '100899287', '100593376')\n",
    "\n",
    "where brand_name like '%LANCOME%'\n",
    "OR brand_name like '%YSL%' \n",
    "OR BRAND_NAME LIKE '%ARMANI%' \n",
    "OR BRAND_NAME LIKE '%DIESEL%' \n",
    "OR BRAND_NAME LIKE '%CACHAREL%' \n",
    "--OR BRAND_NAME LIKE '%YVES%SAINT%LAURENT%'\n",
    "or brand_name in ('YVES SAINT LAURENT', 'YSL', 'Yves Saint Laurent', 'YSL ST LAURENT', 'YVES SAINT LAURENT-MAKE-UP', 'YVES SAINT LAURENT - PARFUMERY', 'YVES SAINT LAURENT L', 'YVES SAINT LAURENT L')\n",
    "\n",
    "\n",
    "group by 1,2,3,4,5;\n",
    "\"\"\"\n"
   ]
  },
  {
   "cell_type": "code",
   "execution_count": 178,
   "metadata": {
    "extensions": {
     "jupyter_dashboards": {
      "version": 1,
      "views": {
       "grid_default": {
        "col": 0,
        "height": 4,
        "hidden": false,
        "row": 4,
        "width": 4
       },
       "report_default": {}
      }
     }
    }
   },
   "outputs": [
    {
     "data": {
      "text/plain": [
       "'Connected: eayoub@mndv'"
      ]
     },
     "execution_count": 178,
     "metadata": {},
     "output_type": "execute_result"
    }
   ],
   "source": [
    "#Do not change: \n",
    "id_seg = \" or \".join([\"segment_name like '{seg_name}'\".format(seg_name=seg_name) for seg_name in segments])\n",
    "id_treatment = \" or \".join([\"treatment_name like '{id_name}'\".format(id_name=id_name) for id_name in treatments])\n",
    "#campaign_spec = \" or \".join([\"campaign_name like '{cname}'\".format(cname=cname) for cname in campaign_list])\n",
    "\n",
    "conn = credentials.login['{}'.format(BU)]\n",
    "%reload_ext sql\n",
    "%sql $conn"
   ]
  },
  {
   "cell_type": "markdown",
   "metadata": {},
   "source": [
    "### Run query:"
   ]
  },
  {
   "cell_type": "code",
   "execution_count": 180,
   "metadata": {
    "extensions": {
     "jupyter_dashboards": {
      "version": 1,
      "views": {
       "grid_default": {
        "col": 4,
        "height": 4,
        "hidden": false,
        "row": 4,
        "width": 4
       },
       "report_default": {}
      }
     }
    }
   },
   "outputs": [
    {
     "name": "stdout",
     "output_type": "stream",
     "text": [
      "3 rows affected.\n"
     ]
    },
    {
     "data": {
      "text/html": [
       "<div>\n",
       "<style>\n",
       "    .dataframe thead tr:only-child th {\n",
       "        text-align: right;\n",
       "    }\n",
       "\n",
       "    .dataframe thead th {\n",
       "        text-align: left;\n",
       "    }\n",
       "\n",
       "    .dataframe tbody tr th {\n",
       "        vertical-align: top;\n",
       "    }\n",
       "</style>\n",
       "<table border=\"1\" class=\"dataframe\">\n",
       "  <thead>\n",
       "    <tr style=\"text-align: right;\">\n",
       "      <th></th>\n",
       "      <th>campaign_name</th>\n",
       "      <th>treatment_name</th>\n",
       "      <th>segment_name</th>\n",
       "      <th>control</th>\n",
       "      <th>contacted</th>\n",
       "      <th>active</th>\n",
       "      <th>act_sales</th>\n",
       "      <th>act_discount</th>\n",
       "      <th>act_trans</th>\n",
       "      <th>act_items</th>\n",
       "    </tr>\n",
       "  </thead>\n",
       "  <tbody>\n",
       "    <tr>\n",
       "      <th>0</th>\n",
       "      <td>MAT_1117_EC_Cybermonday (aswOP8303)</td>\n",
       "      <td>aswDM99957-aswOFRDummyOfferForExportMAT-aswDM9...</td>\n",
       "      <td>aswDM99957 - Copy of TARGET CYBER MONDAY</td>\n",
       "      <td>Y</td>\n",
       "      <td>730</td>\n",
       "      <td>38</td>\n",
       "      <td>3910.03</td>\n",
       "      <td>535.12</td>\n",
       "      <td>41</td>\n",
       "      <td>126</td>\n",
       "    </tr>\n",
       "    <tr>\n",
       "      <th>1</th>\n",
       "      <td>MAT_1117_EC_Cybermonday (aswOP8303)</td>\n",
       "      <td>aswDM99957-aswOFRDummyOfferForExportMAT-aswDM9...</td>\n",
       "      <td>aswDM99957 - Copy of TARGET CYBER MONDAY</td>\n",
       "      <td>N</td>\n",
       "      <td>6572</td>\n",
       "      <td>315</td>\n",
       "      <td>28791.49</td>\n",
       "      <td>4316.23</td>\n",
       "      <td>377</td>\n",
       "      <td>1011</td>\n",
       "    </tr>\n",
       "    <tr>\n",
       "      <th>2</th>\n",
       "      <td>MAT_1117_EC_Cybermonday (aswOP8303)</td>\n",
       "      <td>aswDM99956-aswOFRDummyOfferForExportMAT-aswDM9...</td>\n",
       "      <td>aswDM99956 - Copy of CONTROL CYBER MONDAY</td>\n",
       "      <td>Y</td>\n",
       "      <td>68406</td>\n",
       "      <td>1431</td>\n",
       "      <td>117788.08</td>\n",
       "      <td>14048.84</td>\n",
       "      <td>1587</td>\n",
       "      <td>3920</td>\n",
       "    </tr>\n",
       "  </tbody>\n",
       "</table>\n",
       "</div>"
      ],
      "text/plain": [
       "                         campaign_name  \\\n",
       "0  MAT_1117_EC_Cybermonday (aswOP8303)   \n",
       "1  MAT_1117_EC_Cybermonday (aswOP8303)   \n",
       "2  MAT_1117_EC_Cybermonday (aswOP8303)   \n",
       "\n",
       "                                      treatment_name  \\\n",
       "0  aswDM99957-aswOFRDummyOfferForExportMAT-aswDM9...   \n",
       "1  aswDM99957-aswOFRDummyOfferForExportMAT-aswDM9...   \n",
       "2  aswDM99956-aswOFRDummyOfferForExportMAT-aswDM9...   \n",
       "\n",
       "                                segment_name control  contacted  active  \\\n",
       "0   aswDM99957 - Copy of TARGET CYBER MONDAY       Y        730      38   \n",
       "1   aswDM99957 - Copy of TARGET CYBER MONDAY       N       6572     315   \n",
       "2  aswDM99956 - Copy of CONTROL CYBER MONDAY       Y      68406    1431   \n",
       "\n",
       "   act_sales  act_discount  act_trans  act_items  \n",
       "0    3910.03        535.12         41        126  \n",
       "1   28791.49       4316.23        377       1011  \n",
       "2  117788.08      14048.84       1587       3920  "
      ]
     },
     "execution_count": 180,
     "metadata": {},
     "output_type": "execute_result"
    }
   ],
   "source": [
    "# Query to pull campaign info \n",
    "raw = Query(queries.pca_data(campaign_name, start_dt, end_dt, id_treatment, id_seg))\n",
    "#OR:\n",
    "# raw = Query(custom_query)\n",
    "\n",
    "\n",
    "raw = remove_dup(raw)\n",
    "raw"
   ]
  },
  {
   "cell_type": "code",
   "execution_count": 13,
   "metadata": {
    "extensions": {
     "jupyter_dashboards": {
      "version": 1,
      "views": {
       "grid_default": {
        "hidden": true
       },
       "report_default": {}
      }
     }
    }
   },
   "outputs": [],
   "source": [
    "#use if garbage rows in query\n",
    "\n",
    "# raw_clean = raw.drop([2])\n",
    "# raw_clean = raw_clean.reset_index()\n",
    "# del raw_clean['index']\n",
    "# raw_clean"
   ]
  },
  {
   "cell_type": "code",
   "execution_count": 14,
   "metadata": {},
   "outputs": [],
   "source": [
    "#####summary \n",
    "#raw_clean.groupby('treatment_name').sum()"
   ]
  },
  {
   "cell_type": "code",
   "execution_count": 15,
   "metadata": {
    "extensions": {
     "jupyter_dashboards": {
      "version": 1,
      "views": {
       "grid_default": {
        "col": 0,
        "height": 4,
        "hidden": false,
        "row": 12,
        "width": 4
       },
       "report_default": {}
      }
     }
    }
   },
   "outputs": [],
   "source": [
    "######check unique treatment names\n",
    "#raw_clean.loc[:,'treatment_name'].unique().tolist()"
   ]
  },
  {
   "cell_type": "code",
   "execution_count": 16,
   "metadata": {
    "extensions": {
     "jupyter_dashboards": {
      "version": 1,
      "views": {
       "grid_default": {
        "col": 0,
        "height": 7,
        "hidden": false,
        "row": 80,
        "width": 12
       },
       "report_default": {}
      }
     }
    }
   },
   "outputs": [],
   "source": [
    "######use if you need to explicitly label a row as control\n",
    "# raw_clean.loc[0,'control'] = 'Y'\n",
    "# raw_clean"
   ]
  },
  {
   "cell_type": "markdown",
   "metadata": {},
   "source": [
    "### Measurement"
   ]
  },
  {
   "cell_type": "code",
   "execution_count": 127,
   "metadata": {
    "extensions": {
     "jupyter_dashboards": {
      "version": 1,
      "views": {
       "grid_default": {
        "col": 8,
        "height": 4,
        "hidden": false,
        "row": 8,
        "width": 4
       },
       "report_default": {}
      }
     }
    },
    "scrolled": true
   },
   "outputs": [
    {
     "data": {
      "text/markdown": [
       "# Campaign Results for: MAT_1117_EC_Cybermonday (aswOP8303)"
      ],
      "text/plain": [
       "<IPython.core.display.Markdown object>"
      ]
     },
     "execution_count": 127,
     "metadata": {},
     "output_type": "execute_result"
    }
   ],
   "source": [
    "top_campaign_name = raw.loc[0,'campaign_name']\n",
    "Markdown(\"# Campaign Results for: %s\" % title)\n",
    "# top_campaign_name"
   ]
  },
  {
   "cell_type": "code",
   "execution_count": 18,
   "metadata": {
    "extensions": {
     "jupyter_dashboards": {
      "version": 1,
      "views": {
       "grid_default": {
        "col": 0,
        "height": 13,
        "hidden": false,
        "row": 47,
        "width": 4
       },
       "report_default": {}
      }
     }
    },
    "scrolled": false
   },
   "outputs": [
    {
     "data": {
      "text/html": [
       "<div>\n",
       "<style>\n",
       "    .dataframe thead tr:only-child th {\n",
       "        text-align: right;\n",
       "    }\n",
       "\n",
       "    .dataframe thead th {\n",
       "        text-align: left;\n",
       "    }\n",
       "\n",
       "    .dataframe tbody tr th {\n",
       "        vertical-align: top;\n",
       "    }\n",
       "</style>\n",
       "<table border=\"1\" class=\"dataframe\">\n",
       "  <thead>\n",
       "    <tr style=\"text-align: right;\">\n",
       "      <th></th>\n",
       "      <th>Units</th>\n",
       "      <th>Target</th>\n",
       "      <th>Control</th>\n",
       "    </tr>\n",
       "    <tr>\n",
       "      <th>Metric</th>\n",
       "      <th></th>\n",
       "      <th></th>\n",
       "      <th></th>\n",
       "    </tr>\n",
       "  </thead>\n",
       "  <tbody>\n",
       "    <tr>\n",
       "      <th>Universe</th>\n",
       "      <td>Members</td>\n",
       "      <td>6572</td>\n",
       "      <td>69136</td>\n",
       "    </tr>\n",
       "    <tr>\n",
       "      <th>Active Members</th>\n",
       "      <td>Members</td>\n",
       "      <td>315</td>\n",
       "      <td>1469</td>\n",
       "    </tr>\n",
       "    <tr>\n",
       "      <th>Active Rate</th>\n",
       "      <td>%</td>\n",
       "      <td>5.0%</td>\n",
       "      <td>2.0%</td>\n",
       "    </tr>\n",
       "    <tr>\n",
       "      <th>Total Sales</th>\n",
       "      <td>Euro</td>\n",
       "      <td>28791</td>\n",
       "      <td>121698</td>\n",
       "    </tr>\n",
       "    <tr>\n",
       "      <th>Total Transactions</th>\n",
       "      <td>Number</td>\n",
       "      <td>377</td>\n",
       "      <td>1628</td>\n",
       "    </tr>\n",
       "    <tr>\n",
       "      <th>Total Discount</th>\n",
       "      <td>Euro</td>\n",
       "      <td>4316</td>\n",
       "      <td>14584</td>\n",
       "    </tr>\n",
       "    <tr>\n",
       "      <th>ATV</th>\n",
       "      <td>Euro/Trans</td>\n",
       "      <td>76</td>\n",
       "      <td>75</td>\n",
       "    </tr>\n",
       "    <tr>\n",
       "      <th>ATF</th>\n",
       "      <td>Trans/Member</td>\n",
       "      <td>1.20</td>\n",
       "      <td>1.11</td>\n",
       "    </tr>\n",
       "    <tr>\n",
       "      <th>ACV</th>\n",
       "      <td>Euro/Member</td>\n",
       "      <td>91</td>\n",
       "      <td>83</td>\n",
       "    </tr>\n",
       "    <tr>\n",
       "      <th>Incremental Sales</th>\n",
       "      <td>Euro</td>\n",
       "      <td>17223</td>\n",
       "      <td></td>\n",
       "    </tr>\n",
       "    <tr>\n",
       "      <th>Uplift</th>\n",
       "      <td>%</td>\n",
       "      <td>148.88%</td>\n",
       "      <td></td>\n",
       "    </tr>\n",
       "  </tbody>\n",
       "</table>\n",
       "</div>"
      ],
      "text/plain": [
       "                           Units   Target Control\n",
       "Metric                                           \n",
       "Universe                 Members     6572   69136\n",
       "Active Members           Members      315    1469\n",
       "Active Rate                    %     5.0%    2.0%\n",
       "Total Sales                 Euro    28791  121698\n",
       "Total Transactions        Number      377    1628\n",
       "Total Discount              Euro     4316   14584\n",
       "ATV                   Euro/Trans       76      75\n",
       "ATF                 Trans/Member     1.20    1.11\n",
       "ACV                  Euro/Member       91      83\n",
       "Incremental Sales           Euro    17223        \n",
       "Uplift                         %  148.88%        "
      ]
     },
     "execution_count": 18,
     "metadata": {},
     "output_type": "execute_result"
    }
   ],
   "source": [
    "import measurement as mt\n",
    "metrics_table = mt.measurement2(raw)\n",
    "metrics_table"
   ]
  },
  {
   "cell_type": "code",
   "execution_count": 123,
   "metadata": {},
   "outputs": [
    {
     "data": {
      "text/markdown": [
       "### Target Group Size: 6,572"
      ],
      "text/plain": [
       "<IPython.core.display.Markdown object>"
      ]
     },
     "execution_count": 123,
     "metadata": {},
     "output_type": "execute_result"
    }
   ],
   "source": [
    "target_size = int(metrics_table.loc['Universe', 'Target'])\n",
    "ctrl_size = int(metrics_table.loc['Universe', 'Control'])\n",
    "\n",
    "ctrl_pct = ctrl_size/(ctrl_size+target_size)\n",
    "ctrl_pct = \"%.2f\" % round(ctrl_pct*100,2) + \"%\"\n",
    "\n",
    "target_size_formatted=intWithCommas(target_size)\n",
    "\n",
    "top_target_population = target_size\n",
    "top_target_percent = ctrl_pct\n",
    "# \"{:,}\".format(target_size)\n",
    "#target_size\n",
    "\n",
    "Markdown(\"### Target Group Size: %(tsize)s\"% {\"tsize\": target_size_formatted} )"
   ]
  },
  {
   "cell_type": "code",
   "execution_count": 124,
   "metadata": {},
   "outputs": [
    {
     "data": {
      "text/plain": [
       "6572"
      ]
     },
     "execution_count": 124,
     "metadata": {},
     "output_type": "execute_result"
    }
   ],
   "source": [
    "target_size"
   ]
  },
  {
   "cell_type": "code",
   "execution_count": 20,
   "metadata": {},
   "outputs": [
    {
     "data": {
      "text/markdown": [
       "### Target Group Size: 91.32%"
      ],
      "text/plain": [
       "<IPython.core.display.Markdown object>"
      ]
     },
     "execution_count": 20,
     "metadata": {},
     "output_type": "execute_result"
    }
   ],
   "source": [
    "Markdown(\"### Target Group Size: %(csize)s\"% {\"csize\": ctrl_pct} )"
   ]
  },
  {
   "cell_type": "code",
   "execution_count": 21,
   "metadata": {
    "extensions": {
     "jupyter_dashboards": {
      "version": 1,
      "views": {
       "grid_default": {
        "hidden": true
       },
       "report_default": {}
      }
     }
    }
   },
   "outputs": [],
   "source": [
    "# sales_t = float(metrics_table.loc['Total Sales', 'Target'])\n",
    "# acv_c = float(metrics_table.loc['ACV', 'Control'])\n",
    "# universe_t = float(metrics_table.loc['Universe', 'Target'])"
   ]
  },
  {
   "cell_type": "code",
   "execution_count": 112,
   "metadata": {
    "extensions": {
     "jupyter_dashboards": {
      "version": 1,
      "views": {
       "grid_default": {
        "col": 5,
        "height": 4,
        "hidden": false,
        "row": 12,
        "width": 4
       },
       "report_default": {}
      }
     }
    },
    "scrolled": true
   },
   "outputs": [
    {
     "name": "stderr",
     "output_type": "stream",
     "text": [
      "UsageError: Line magic function `%(days)s` not found.\n"
     ]
    }
   ],
   "source": [
    "relativedelta(months=6)\n",
    "\n",
    "a = datetime.strptime(str(start_dt), date_format)\n",
    "b = datetime.strptime(str(end_dt), date_format)\n",
    "delta = b - a\n",
    "\n",
    "top_duration = Markdown(\"### Campaign length: %(days)d days\" % {\"days\": delta.days })\n",
    "top_duration"
   ]
  },
  {
   "cell_type": "code",
   "execution_count": 111,
   "metadata": {},
   "outputs": [
    {
     "data": {
      "text/markdown": [
       "### Campaign length: 3 days"
      ],
      "text/plain": [
       "<IPython.core.display.Markdown object>"
      ]
     },
     "execution_count": 111,
     "metadata": {},
     "output_type": "execute_result"
    }
   ],
   "source": [
    "top_duration"
   ]
  },
  {
   "cell_type": "code",
   "execution_count": 109,
   "metadata": {},
   "outputs": [
    {
     "data": {
      "text/plain": [
       "datetime.timedelta(3)"
      ]
     },
     "execution_count": 109,
     "metadata": {},
     "output_type": "execute_result"
    }
   ],
   "source": [
    "delta"
   ]
  },
  {
   "cell_type": "code",
   "execution_count": 114,
   "metadata": {
    "extensions": {
     "jupyter_dashboards": {
      "version": 1,
      "views": {
       "grid_default": {
        "col": 0,
        "height": 4,
        "hidden": false,
        "row": 8,
        "width": 4
       },
       "report_default": {}
      }
     }
    }
   },
   "outputs": [
    {
     "data": {
      "text/markdown": [
       "## Total Sales: €28,791"
      ],
      "text/plain": [
       "<IPython.core.display.Markdown object>"
      ]
     },
     "execution_count": 114,
     "metadata": {},
     "output_type": "execute_result"
    }
   ],
   "source": [
    "total_sales = int(metrics_table.loc['Total Sales','Target'])\n",
    "total_sales = intWithCommas(total_sales)\n",
    "top_total_sales = total_sales\n",
    "\n",
    "Markdown('## Total Sales: €{}'.format(total_sales))\n"
   ]
  },
  {
   "cell_type": "code",
   "execution_count": 121,
   "metadata": {
    "extensions": {
     "jupyter_dashboards": {
      "version": 1,
      "views": {
       "grid_default": {
        "col": 4,
        "height": 4,
        "hidden": false,
        "row": 16,
        "width": 4
       },
       "report_default": {}
      }
     }
    }
   },
   "outputs": [
    {
     "data": {
      "text/markdown": [
       "## Incremental Sales: €17223"
      ],
      "text/plain": [
       "<IPython.core.display.Markdown object>"
      ]
     },
     "execution_count": 121,
     "metadata": {},
     "output_type": "execute_result"
    }
   ],
   "source": [
    "#Print incremental sales: \n",
    "inc = int(metrics_table.loc['Incremental Sales','Target'])\n",
    "top_incremental_dollars = intWithCommas(inc)\n",
    "\n",
    "active = metrics_table.loc['Active Rate','Target']\n",
    "top_incremental_percent = metrics_table.loc['Uplift', 'Target']\n",
    "Markdown(\"## Incremental Sales: €{}\".format(inc))"
   ]
  },
  {
   "cell_type": "code",
   "execution_count": 120,
   "metadata": {
    "extensions": {
     "jupyter_dashboards": {
      "version": 1,
      "views": {
       "grid_default": {
        "col": 8,
        "height": 4,
        "hidden": false,
        "row": 16,
        "width": 4
       },
       "report_default": {}
      }
     }
    },
    "scrolled": true
   },
   "outputs": [
    {
     "data": {
      "text/markdown": [
       "### Total Uplift from Campaign: 148.88%"
      ],
      "text/plain": [
       "<IPython.core.display.Markdown object>"
      ]
     },
     "execution_count": 120,
     "metadata": {},
     "output_type": "execute_result"
    }
   ],
   "source": [
    "#Print uplift:\n",
    "Markdown(\"### Total Uplift from Campaign: %s\" % uplift)"
   ]
  },
  {
   "cell_type": "code",
   "execution_count": 26,
   "metadata": {
    "extensions": {
     "jupyter_dashboards": {
      "version": 1,
      "views": {
       "grid_default": {
        "col": 8,
        "height": 4,
        "hidden": false,
        "row": 20,
        "width": 4
       },
       "report_default": {}
      }
     }
    }
   },
   "outputs": [
    {
     "name": "stdout",
     "output_type": "stream",
     "text": [
      "8 rows affected.\n"
     ]
    }
   ],
   "source": [
    "sales_by_day = Query(queries.camp_transactions(campaign_name, start_dt, end_dt))"
   ]
  },
  {
   "cell_type": "code",
   "execution_count": 56,
   "metadata": {},
   "outputs": [],
   "source": [
    "sales_by_day_format = sales_by_day.loc[:,'sales']\n",
    "sales_by_day_format = sales_by_day_format.reset_index()\n",
    "sales_by_day_format['label_0'] = 'Day'\n",
    "sales_by_day_format.columns = ['label_1', 'value', 'label_0']\n",
    "sales_by_day_format['label_1'] = sales_by_day_format['label_1'] + 1\n",
    "sales_by_day_format.value = sales_by_day_format.value.map(int)\n",
    "sales_by_day_format.value = sales_by_day_format.value.round()\n",
    "sales_by_day_format[\"label\"] = sales_by_day_format[\"label_0\"].map(str) + \" \" + sales_by_day_format[\"label_1\"].map(str)\n",
    "sales_by_day_format = sales_by_day_format.drop(['label_1', 'label_0'], axis = 1)\n",
    "sales_by_day_format = sales_by_day_format[['label', 'value']]\n",
    "\n",
    "dS = sales_by_day_format"
   ]
  },
  {
   "cell_type": "code",
   "execution_count": 57,
   "metadata": {
    "extensions": {
     "jupyter_dashboards": {
      "version": 1,
      "views": {
       "grid_default": {
        "col": 0,
        "height": 19,
        "hidden": false,
        "row": 28,
        "width": null
       },
       "report_default": {}
      }
     }
    },
    "scrolled": false
   },
   "outputs": [],
   "source": [
    "# layout_daily_sales = go.Layout(\n",
    "#     title='Sales by Day',\n",
    "#     yaxis=dict(\n",
    "#         title='Sales (Euros)'\n",
    "#     ),\n",
    "#     xaxis=dict(\n",
    "#         title='Day'\n",
    "#     )\n",
    "# )\n",
    "\n",
    "\n",
    "# trace2=go.Bar(\n",
    "#     x=max(sales_by_day.sales),\n",
    "#     y=sales_by_day.sales,\n",
    "#     marker=dict(\n",
    "#                 color='rgb(0, 121, 193)'\n",
    "#     )\n",
    "# )\n",
    "\n",
    "\n",
    "# fig = go.Figure(data=[trace2], layout=layout_daily_sales)\n",
    "# py.offline.iplot(fig)"
   ]
  },
  {
   "cell_type": "code",
   "execution_count": null,
   "metadata": {},
   "outputs": [],
   "source": []
  },
  {
   "cell_type": "markdown",
   "metadata": {},
   "source": [
    "## Viz: Sales by RFM"
   ]
  },
  {
   "cell_type": "code",
   "execution_count": 84,
   "metadata": {},
   "outputs": [],
   "source": [
    "import queries"
   ]
  },
  {
   "cell_type": "code",
   "execution_count": 85,
   "metadata": {},
   "outputs": [
    {
     "name": "stdout",
     "output_type": "stream",
     "text": [
      "6 rows affected.\n"
     ]
    }
   ],
   "source": [
    "sS = Query(queries.sales_by_rfm(campaign_name, start_dt, end_dt, seg_start, id_seg, id_treatment))"
   ]
  },
  {
   "cell_type": "code",
   "execution_count": 88,
   "metadata": {},
   "outputs": [
    {
     "data": {
      "text/html": [
       "<div>\n",
       "<style>\n",
       "    .dataframe thead tr:only-child th {\n",
       "        text-align: right;\n",
       "    }\n",
       "\n",
       "    .dataframe thead th {\n",
       "        text-align: left;\n",
       "    }\n",
       "\n",
       "    .dataframe tbody tr th {\n",
       "        vertical-align: top;\n",
       "    }\n",
       "</style>\n",
       "<table border=\"1\" class=\"dataframe\">\n",
       "  <thead>\n",
       "    <tr style=\"text-align: right;\">\n",
       "      <th></th>\n",
       "      <th>label</th>\n",
       "      <th>value</th>\n",
       "    </tr>\n",
       "  </thead>\n",
       "  <tbody>\n",
       "    <tr>\n",
       "      <th>0</th>\n",
       "      <td>VIP</td>\n",
       "      <td>15002.02</td>\n",
       "    </tr>\n",
       "    <tr>\n",
       "      <th>1</th>\n",
       "      <td>LOYAL</td>\n",
       "      <td>4644.19</td>\n",
       "    </tr>\n",
       "    <tr>\n",
       "      <th>2</th>\n",
       "      <td>NEW</td>\n",
       "      <td>250.03</td>\n",
       "    </tr>\n",
       "    <tr>\n",
       "      <th>3</th>\n",
       "      <td>ONE-OFFS</td>\n",
       "      <td>1097.49</td>\n",
       "    </tr>\n",
       "    <tr>\n",
       "      <th>4</th>\n",
       "      <td>LAPSED</td>\n",
       "      <td>465.65</td>\n",
       "    </tr>\n",
       "    <tr>\n",
       "      <th>5</th>\n",
       "      <td>INFREQUENT</td>\n",
       "      <td>4163.79</td>\n",
       "    </tr>\n",
       "  </tbody>\n",
       "</table>\n",
       "</div>"
      ],
      "text/plain": [
       "        label     value\n",
       "0         VIP  15002.02\n",
       "1       LOYAL   4644.19\n",
       "2         NEW    250.03\n",
       "3    ONE-OFFS   1097.49\n",
       "4      LAPSED    465.65\n",
       "5  INFREQUENT   4163.79"
      ]
     },
     "execution_count": 88,
     "metadata": {},
     "output_type": "execute_result"
    }
   ],
   "source": [
    "sS = sS.loc[:,['seg_num', 'act_sales']]\n",
    "sS.columns = ['label', 'value']\n",
    "sS"
   ]
  },
  {
   "cell_type": "code",
   "execution_count": 106,
   "metadata": {},
   "outputs": [],
   "source": [
    "# sales_rfm = Query(queries.sales_by_rfm(campaign_name, start_dt, end_dt))\n",
    "# layout_rfm = go.Layout(\n",
    "#     title='Sales by RFM',\n",
    "#     xaxis=dict(\n",
    "#         title='Sales by RFM'\n",
    "# ))\n",
    "\n",
    "\n",
    "# trace_rfm=go.Bar(\n",
    "#     x=sales_rfm.sales,\n",
    "#     y=sales_rfm.seg_num,\n",
    "#     name = 'Sales by RFM',\n",
    "#     orientation = 'h',\n",
    "#     marker=dict(color='rgb(0, 121, 193)')\n",
    "   \n",
    "# )\n",
    "\n",
    "\n",
    "# fig_rfm = go.Figure(data=[trace_rfm], layout=layout_rfm)\n",
    "# py.offline.iplot(fig_rfm)"
   ]
  },
  {
   "cell_type": "markdown",
   "metadata": {
    "extensions": {
     "jupyter_dashboards": {
      "version": 1,
      "views": {
       "grid_default": {
        "col": 0,
        "height": 4,
        "hidden": false,
        "row": 20,
        "width": 4
       },
       "report_default": {}
      }
     }
    }
   },
   "source": [
    "## Deep Dives"
   ]
  },
  {
   "cell_type": "code",
   "execution_count": 91,
   "metadata": {},
   "outputs": [],
   "source": [
    "####ANALYST INPUTS#####\n",
    "pre_period_days = 90"
   ]
  },
  {
   "cell_type": "markdown",
   "metadata": {
    "extensions": {
     "jupyter_dashboards": {
      "version": 1,
      "views": {
       "grid_default": {
        "col": 4,
        "height": 4,
        "hidden": false,
        "row": 47,
        "width": 4
       },
       "report_default": {}
      }
     }
    }
   },
   "source": [
    "#### ACV/ATV/ATF Pre-Period Checks"
   ]
  },
  {
   "cell_type": "code",
   "execution_count": 92,
   "metadata": {},
   "outputs": [
    {
     "name": "stdout",
     "output_type": "stream",
     "text": [
      "3 rows affected.\n"
     ]
    }
   ],
   "source": [
    "pre_metrics = pre_acv_atv_atf(start_dt, pre_period_days)"
   ]
  },
  {
   "cell_type": "code",
   "execution_count": 93,
   "metadata": {},
   "outputs": [
    {
     "data": {
      "text/html": [
       "<div>\n",
       "<style>\n",
       "    .dataframe thead tr:only-child th {\n",
       "        text-align: right;\n",
       "    }\n",
       "\n",
       "    .dataframe thead th {\n",
       "        text-align: left;\n",
       "    }\n",
       "\n",
       "    .dataframe tbody tr th {\n",
       "        vertical-align: top;\n",
       "    }\n",
       "</style>\n",
       "<table border=\"1\" class=\"dataframe\">\n",
       "  <thead>\n",
       "    <tr style=\"text-align: right;\">\n",
       "      <th></th>\n",
       "      <th>ACV</th>\n",
       "      <th>ACV Pre</th>\n",
       "      <th>ATV</th>\n",
       "      <th>ATV Pre</th>\n",
       "      <th>ATF</th>\n",
       "      <th>ATF Pre</th>\n",
       "    </tr>\n",
       "    <tr>\n",
       "      <th>Group</th>\n",
       "      <th></th>\n",
       "      <th></th>\n",
       "      <th></th>\n",
       "      <th></th>\n",
       "      <th></th>\n",
       "      <th></th>\n",
       "    </tr>\n",
       "  </thead>\n",
       "  <tbody>\n",
       "    <tr>\n",
       "      <th>Target</th>\n",
       "      <td>91</td>\n",
       "      <td>184.14</td>\n",
       "      <td>76</td>\n",
       "      <td>88.37</td>\n",
       "      <td>1.20</td>\n",
       "      <td>2.08</td>\n",
       "    </tr>\n",
       "    <tr>\n",
       "      <th>Control</th>\n",
       "      <td>83</td>\n",
       "      <td>117.55</td>\n",
       "      <td>75</td>\n",
       "      <td>79.03</td>\n",
       "      <td>1.11</td>\n",
       "      <td>1.49</td>\n",
       "    </tr>\n",
       "  </tbody>\n",
       "</table>\n",
       "</div>"
      ],
      "text/plain": [
       "        ACV  ACV Pre ATV  ATV Pre   ATF  ATF Pre\n",
       "Group                                           \n",
       "Target   91   184.14  76    88.37  1.20     2.08\n",
       "Control  83   117.55  75    79.03  1.11     1.49"
      ]
     },
     "execution_count": 93,
     "metadata": {},
     "output_type": "execute_result"
    }
   ],
   "source": [
    "pre_metrics"
   ]
  },
  {
   "cell_type": "code",
   "execution_count": 94,
   "metadata": {},
   "outputs": [
    {
     "data": {
      "text/html": [
       "<div>\n",
       "<style>\n",
       "    .dataframe thead tr:only-child th {\n",
       "        text-align: right;\n",
       "    }\n",
       "\n",
       "    .dataframe thead th {\n",
       "        text-align: left;\n",
       "    }\n",
       "\n",
       "    .dataframe tbody tr th {\n",
       "        vertical-align: top;\n",
       "    }\n",
       "</style>\n",
       "<table border=\"1\" class=\"dataframe\">\n",
       "  <thead>\n",
       "    <tr style=\"text-align: right;\">\n",
       "      <th>Group</th>\n",
       "      <th>Target</th>\n",
       "      <th>Control</th>\n",
       "    </tr>\n",
       "  </thead>\n",
       "  <tbody>\n",
       "    <tr>\n",
       "      <th>0</th>\n",
       "      <td>184.14</td>\n",
       "      <td>117.55</td>\n",
       "    </tr>\n",
       "  </tbody>\n",
       "</table>\n",
       "</div>"
      ],
      "text/plain": [
       "Group  Target  Control\n",
       "0      184.14   117.55"
      ]
     },
     "execution_count": 94,
     "metadata": {},
     "output_type": "execute_result"
    }
   ],
   "source": [
    "pACV = pd.DataFrame(pre_metrics.loc[:, 'ACV Pre'])\n",
    "pACV = pACV.transpose()\n",
    "pACV = pACV.reset_index()\n",
    "pACV = pACV.drop(['index'], axis =1)\n",
    "pACV"
   ]
  },
  {
   "cell_type": "code",
   "execution_count": 95,
   "metadata": {},
   "outputs": [
    {
     "data": {
      "text/html": [
       "<div>\n",
       "<style>\n",
       "    .dataframe thead tr:only-child th {\n",
       "        text-align: right;\n",
       "    }\n",
       "\n",
       "    .dataframe thead th {\n",
       "        text-align: left;\n",
       "    }\n",
       "\n",
       "    .dataframe tbody tr th {\n",
       "        vertical-align: top;\n",
       "    }\n",
       "</style>\n",
       "<table border=\"1\" class=\"dataframe\">\n",
       "  <thead>\n",
       "    <tr style=\"text-align: right;\">\n",
       "      <th>Group</th>\n",
       "      <th>Target</th>\n",
       "      <th>Control</th>\n",
       "    </tr>\n",
       "  </thead>\n",
       "  <tbody>\n",
       "    <tr>\n",
       "      <th>0</th>\n",
       "      <td>88.37</td>\n",
       "      <td>79.03</td>\n",
       "    </tr>\n",
       "  </tbody>\n",
       "</table>\n",
       "</div>"
      ],
      "text/plain": [
       "Group  Target  Control\n",
       "0       88.37    79.03"
      ]
     },
     "execution_count": 95,
     "metadata": {},
     "output_type": "execute_result"
    }
   ],
   "source": [
    "pATV = pd.DataFrame(pre_metrics.loc[:, 'ATV Pre'])\n",
    "pATV = pATV.transpose()\n",
    "pATV = pATV.reset_index()\n",
    "pATV = pATV.drop(['index'], axis =1)\n",
    "pATV"
   ]
  },
  {
   "cell_type": "code",
   "execution_count": 96,
   "metadata": {},
   "outputs": [
    {
     "data": {
      "text/html": [
       "<div>\n",
       "<style>\n",
       "    .dataframe thead tr:only-child th {\n",
       "        text-align: right;\n",
       "    }\n",
       "\n",
       "    .dataframe thead th {\n",
       "        text-align: left;\n",
       "    }\n",
       "\n",
       "    .dataframe tbody tr th {\n",
       "        vertical-align: top;\n",
       "    }\n",
       "</style>\n",
       "<table border=\"1\" class=\"dataframe\">\n",
       "  <thead>\n",
       "    <tr style=\"text-align: right;\">\n",
       "      <th>Group</th>\n",
       "      <th>Target</th>\n",
       "      <th>Control</th>\n",
       "    </tr>\n",
       "  </thead>\n",
       "  <tbody>\n",
       "    <tr>\n",
       "      <th>0</th>\n",
       "      <td>2.08</td>\n",
       "      <td>1.49</td>\n",
       "    </tr>\n",
       "  </tbody>\n",
       "</table>\n",
       "</div>"
      ],
      "text/plain": [
       "Group  Target  Control\n",
       "0        2.08     1.49"
      ]
     },
     "execution_count": 96,
     "metadata": {},
     "output_type": "execute_result"
    }
   ],
   "source": [
    "pATF = pd.DataFrame(pre_metrics.loc[:, 'ATF Pre'])\n",
    "pATF = pATF.transpose()\n",
    "pATF = pATF.reset_index()\n",
    "pATF = pATF.drop(['index'], axis =1)\n",
    "pATF"
   ]
  },
  {
   "cell_type": "code",
   "execution_count": 134,
   "metadata": {},
   "outputs": [],
   "source": [
    "top_start_date = start_dt\n",
    "top_end_date = end_dt"
   ]
  },
  {
   "cell_type": "code",
   "execution_count": 156,
   "metadata": {},
   "outputs": [],
   "source": [
    "norm_end = '20171126'\n",
    "norm_start = '20170827'"
   ]
  },
  {
   "cell_type": "code",
   "execution_count": 181,
   "metadata": {
    "scrolled": false
   },
   "outputs": [
    {
     "name": "stdout",
     "output_type": "stream",
     "text": [
      "3 rows affected.\n"
     ]
    },
    {
     "data": {
      "text/html": [
       "<div>\n",
       "<style>\n",
       "    .dataframe thead tr:only-child th {\n",
       "        text-align: right;\n",
       "    }\n",
       "\n",
       "    .dataframe thead th {\n",
       "        text-align: left;\n",
       "    }\n",
       "\n",
       "    .dataframe tbody tr th {\n",
       "        vertical-align: top;\n",
       "    }\n",
       "</style>\n",
       "<table border=\"1\" class=\"dataframe\">\n",
       "  <thead>\n",
       "    <tr style=\"text-align: right;\">\n",
       "      <th></th>\n",
       "      <th>Units</th>\n",
       "      <th>Target</th>\n",
       "      <th>Control</th>\n",
       "    </tr>\n",
       "    <tr>\n",
       "      <th>Metric</th>\n",
       "      <th></th>\n",
       "      <th></th>\n",
       "      <th></th>\n",
       "    </tr>\n",
       "  </thead>\n",
       "  <tbody>\n",
       "    <tr>\n",
       "      <th>Universe</th>\n",
       "      <td>Members</td>\n",
       "      <td>6572</td>\n",
       "      <td>69136</td>\n",
       "    </tr>\n",
       "    <tr>\n",
       "      <th>Active Members</th>\n",
       "      <td>Members</td>\n",
       "      <td>315</td>\n",
       "      <td>1469</td>\n",
       "    </tr>\n",
       "    <tr>\n",
       "      <th>Active Rate</th>\n",
       "      <td>%</td>\n",
       "      <td>5.0%</td>\n",
       "      <td>2.0%</td>\n",
       "    </tr>\n",
       "    <tr>\n",
       "      <th>Total Sales</th>\n",
       "      <td>Euro</td>\n",
       "      <td>28791</td>\n",
       "      <td>121698</td>\n",
       "    </tr>\n",
       "    <tr>\n",
       "      <th>Total Transactions</th>\n",
       "      <td>Number</td>\n",
       "      <td>377</td>\n",
       "      <td>1628</td>\n",
       "    </tr>\n",
       "    <tr>\n",
       "      <th>Total Discount</th>\n",
       "      <td>Euro</td>\n",
       "      <td>4316</td>\n",
       "      <td>14584</td>\n",
       "    </tr>\n",
       "    <tr>\n",
       "      <th>ATV</th>\n",
       "      <td>Euro/Trans</td>\n",
       "      <td>76</td>\n",
       "      <td>75</td>\n",
       "    </tr>\n",
       "    <tr>\n",
       "      <th>ATF</th>\n",
       "      <td>Trans/Member</td>\n",
       "      <td>1.20</td>\n",
       "      <td>1.11</td>\n",
       "    </tr>\n",
       "    <tr>\n",
       "      <th>ACV</th>\n",
       "      <td>Euro/Member</td>\n",
       "      <td>91</td>\n",
       "      <td>83</td>\n",
       "    </tr>\n",
       "    <tr>\n",
       "      <th>Incremental Sales</th>\n",
       "      <td>Euro</td>\n",
       "      <td>702</td>\n",
       "      <td></td>\n",
       "    </tr>\n",
       "    <tr>\n",
       "      <th>Uplift</th>\n",
       "      <td>%</td>\n",
       "      <td>2.50%</td>\n",
       "      <td></td>\n",
       "    </tr>\n",
       "  </tbody>\n",
       "</table>\n",
       "</div>"
      ],
      "text/plain": [
       "                           Units Target Control\n",
       "Metric                                         \n",
       "Universe                 Members   6572   69136\n",
       "Active Members           Members    315    1469\n",
       "Active Rate                    %   5.0%    2.0%\n",
       "Total Sales                 Euro  28791  121698\n",
       "Total Transactions        Number    377    1628\n",
       "Total Discount              Euro   4316   14584\n",
       "ATV                   Euro/Trans     76      75\n",
       "ATF                 Trans/Member   1.20    1.11\n",
       "ACV                  Euro/Member     91      83\n",
       "Incremental Sales           Euro    702        \n",
       "Uplift                         %  2.50%        "
      ]
     },
     "execution_count": 181,
     "metadata": {},
     "output_type": "execute_result"
    }
   ],
   "source": [
    "import measurement\n",
    "pre_period_raw = normalize_q(norm_start, norm_end, campaign_name, id_seg, id_treatment)\n",
    "pre_period_raw\n",
    "pre_metrics_table = mt.measurement2(pre_period_raw)\n",
    "\n",
    "\n",
    "\n",
    "spc_t = int(metrics_table.loc['Universe', 'Target'])/int(metrics_table.loc['Total Sales', 'Target'])\n",
    "spc_c = int(metrics_table.loc['Universe', 'Control'])/int(metrics_table.loc['Total Sales', 'Control'])\n",
    "spc_t_pre = int(pre_metrics_table.loc['Universe', 'Target'])/int(pre_metrics_table.loc['Total Sales', 'Target'])\n",
    "spc_c_pre = int(pre_metrics_table.loc['Universe', 'Control'])/int(pre_metrics_table.loc['Total Sales', 'Control'])\n",
    "\n",
    "normalized_inc_sales = (spc_t - spc_c*(spc_t_pre/spc_c_pre))*int(metrics_table.loc['Universe', 'Target'])\n",
    "normalized_uplift = normalized_inc_sales/(int(metrics_table.loc['Total Sales', 'Target'])- normalized_inc_sales)\n",
    "\n",
    "metrics_table1 = metrics_table.copy()\n",
    "metrics_table1.loc['Incremental Sales', 'Target'] = \"%.2d\" % round(normalized_inc_sales,0)\n",
    "metrics_table1.loc['Uplift', 'Target'] = \"%.2f\" % round(normalized_uplift*100,2) + \"%\" \n",
    "\n",
    "                \n",
    "metrics_table1"
   ]
  },
  {
   "cell_type": "code",
   "execution_count": 182,
   "metadata": {},
   "outputs": [],
   "source": [
    "campaignData=[{\"metaType\":\"Topline\",\"metaKey\":\"Top Campaign Name\",\"data\":top_campaign_name,\"dataTarget\":\"\",\"dataControl\":\"\"},\n",
    "{\"metaType\":\"Topline\",\"metaKey\":\"Top Start Date\",\"data\":top_start_date,\"dataTarget\":\"\",\"dataControl\":\"\"},\n",
    "{\"metaType\":\"Topline\",\"metaKey\":\"Top End Date\",\"data\":top_end_date,\"dataTarget\":\"\",\"dataControl\":\"\"},\n",
    "{\"metaType\":\"Topline\",\"metaKey\":\"Top Duration \",\"data\":\"3 Days\",\"dataTarget\":\"\",\"dataControl\":\"\"},\n",
    "{\"metaType\":\"Topline\",\"metaKey\":\"Top Channel\",\"data\":top_channel,\"dataTarget\":\"\",\"dataControl\":\"\"},\n",
    "{\"metaType\":\"Topline\",\"metaKey\":\"Top Incremental Dollars\",\"data\":top_incremental_dollars,\"dataTarget\":\"\",\"dataControl\":\"\"},\n",
    "{\"metaType\":\"Topline\",\"metaKey\":\"Top Incremental Percent\",\"data\":top_incremental_percent,\"dataTarget\":\"\",\"dataControl\":\"\"},\n",
    "{\"metaType\":\"Topline\",\"metaKey\":\"Top Total Sales\",\"data\":top_total_sales,\"dataTarget\":\"\",\"dataControl\":\"\"},\n",
    "{\"metaType\":\"Topline\",\"metaKey\":\"Top Target Population\",\"data\":top_target_population,\"dataTarget\":\"\",\"dataControl\":\"\"},\n",
    "{\"metaType\":\"Topline\",\"metaKey\":\"Top Target Percent\",\"data\":top_target_percent,\"dataTarget\":\"\",\"dataControl\":\"\"},\n",
    "{\"metaType\":\"Summary\",\"metaKey\":\"Universe\",\"data\":\"Members\",\"dataTarget\":metrics_table.loc['Universe', 'Target'],\"dataControl\":metrics_table.loc['Universe', 'Control']},\n",
    "{\"metaType\":\"Summary\",\"metaKey\":\"Active Members\",\"data\":\"Members\",\"dataTarget\":metrics_table.loc['Active Members', 'Target'],\"dataControl\":metrics_table.loc['Active Members', 'Control']},\n",
    "{\"metaType\":\"Summary\",\"metaKey\":\"Active Rate\",\"data\":\"%\",\"dataTarget\":metrics_table.loc['Active Rate', 'Target'],\"dataControl\":metrics_table.loc['Active Rate', 'Control']},\n",
    "{\"metaType\":\"Summary\",\"metaKey\":\"Total Sales\",\"data\":\"Euro\",\"dataTarget\":metrics_table.loc['Total Sales', 'Target'],\"dataControl\":metrics_table.loc['Total Sales', 'Control']},\n",
    "{\"metaType\":\"Summary\",\"metaKey\":\"Total Transactions\",\"data\":\"Number\",\"dataTarget\":metrics_table.loc['Total Transactions', 'Target'],\"dataControl\":metrics_table.loc['Total Transactions', 'Control']},\n",
    "{\"metaType\":\"Summary\",\"metaKey\":\"Total Discount\",\"data\":\"Euro\",\"dataTarget\":metrics_table.loc['Total Discount', 'Target'],\"dataControl\":metrics_table.loc['Total Discount', 'Control']},\n",
    "{\"metaType\":\"Summary\",\"metaKey\":\"ATV\",\"data\":\"Euro/Trans\",\"dataTarget\":metrics_table.loc['ATV', 'Target'],\"dataControl\":metrics_table.loc['ATV', 'Control']},\n",
    "{\"metaType\":\"Summary\",\"metaKey\":\"ATF\",\"data\":\"Trans/Member\",\"dataTarget\":metrics_table.loc['ATF', 'Target'],\"dataControl\":metrics_table.loc['ATF', 'Control']},\n",
    "{\"metaType\":\"Summary\",\"metaKey\":\"ACV\",\"data\":\"Euro/Member\",\"dataTarget\":metrics_table.loc['ACV', 'Target'],\"dataControl\":metrics_table.loc['ACV', 'Control']},\n",
    "{\"metaType\":\"Summary\",\"metaKey\":\"Incremental Sales\",\"data\":\"Euro\",\"dataTarget\":\"\",\"dataControl\":metrics_table.loc['Incremental Sales', 'Target']},\n",
    "{\"metaType\":\"Summary\",\"metaKey\":\"Uplift\",\"data\":\"%\",\"dataTarget\":\"\",\"dataControl\":metrics_table.loc['Uplift', 'Target']},\n",
    "{\"metaType\":\"Deep Analysis\",\"metaKey\":\"Universe\",\"data\":\"Members\",\"dataTarget\":metrics_table1.loc['Universe', 'Target'],\"dataControl\":metrics_table1.loc['Universe', 'Control']},\n",
    "{\"metaType\":\"Deep Analysis\",\"metaKey\":\"Active Members\",\"data\":\"Members\",\"dataTarget\":metrics_table1.loc['Active Members', 'Target'],\"dataControl\":metrics_table1.loc['Active Members', 'Control']},\n",
    "{\"metaType\":\"Deep Analysis\",\"metaKey\":\"Active Rate\",\"data\":\"%\",\"dataTarget\":metrics_table1.loc['Active Rate', 'Target'],\"dataControl\":metrics_table1.loc['Active Rate', 'Control']},\n",
    "{\"metaType\":\"Deep Analysis\",\"metaKey\":\"Total Sales\",\"data\":\"Euro\",\"dataTarget\":metrics_table1.loc['Total Sales', 'Target'],\"dataControl\":metrics_table1.loc['Total Sales', 'Control']},\n",
    "{\"metaType\":\"Deep Analysis\",\"metaKey\":\"Total Transactions\",\"data\":\"Number\",\"dataTarget\":metrics_table1.loc['Total Transactions', 'Target'],\"dataControl\":metrics_table1.loc['Total Transactions', 'Control']},\n",
    "{\"metaType\":\"Deep Analysis\",\"metaKey\":\"Total Discount\",\"data\":\"Euro\",\"dataTarget\":metrics_table1.loc['Total Discount', 'Target'],\"dataControl\":metrics_table1.loc['Total Discount', 'Control']},\n",
    "{\"metaType\":\"Deep Analysis\",\"metaKey\":\"ATV\",\"data\":\"Euro/Trans\",\"dataTarget\":metrics_table1.loc['ATV', 'Target'],\"dataControl\":metrics_table1.loc['ATV', 'Control']},\n",
    "{\"metaType\":\"Deep Analysis\",\"metaKey\":\"ATF\",\"data\":\"Trans/Member\",\"dataTarget\":metrics_table1.loc['ATF', 'Target'],\"dataControl\":metrics_table1.loc['ATF', 'Control']},\n",
    "{\"metaType\":\"Deep Analysis\",\"metaKey\":\"ACV\",\"data\":\"Euro/Member\",\"dataTarget\":metrics_table1.loc['ACV', 'Target'],\"dataControl\":metrics_table1.loc['ACV', 'Control']},\n",
    "{\"metaType\":\"Deep Analysis\",\"metaKey\":\"Incremental Sales\",\"data\":\"Euro\",\"dataTarget\":\"\",\"dataControl\":metrics_table1.loc['Incremental Sales', 'Target']},\n",
    "{\"metaType\":\"Deep Analysis\",\"metaKey\":\"Uplift\",\"data\":\"%\",\"dataTarget\":\"\",\"dataControl\":metrics_table1.loc['Uplift', 'Target']}]"
   ]
  },
  {
   "cell_type": "code",
   "execution_count": 183,
   "metadata": {
    "scrolled": false
   },
   "outputs": [
    {
     "data": {
      "text/html": [
       "<div>\n",
       "<style>\n",
       "    .dataframe thead tr:only-child th {\n",
       "        text-align: right;\n",
       "    }\n",
       "\n",
       "    .dataframe thead th {\n",
       "        text-align: left;\n",
       "    }\n",
       "\n",
       "    .dataframe tbody tr th {\n",
       "        vertical-align: top;\n",
       "    }\n",
       "</style>\n",
       "<table border=\"1\" class=\"dataframe\">\n",
       "  <thead>\n",
       "    <tr style=\"text-align: right;\">\n",
       "      <th></th>\n",
       "      <th>data</th>\n",
       "      <th>dataControl</th>\n",
       "      <th>dataTarget</th>\n",
       "      <th>metaKey</th>\n",
       "      <th>metaType</th>\n",
       "    </tr>\n",
       "  </thead>\n",
       "  <tbody>\n",
       "    <tr>\n",
       "      <th>0</th>\n",
       "      <td>MAT_1117_EC_Cybermonday (aswOP8303)</td>\n",
       "      <td></td>\n",
       "      <td></td>\n",
       "      <td>Top Campaign Name</td>\n",
       "      <td>Topline</td>\n",
       "    </tr>\n",
       "    <tr>\n",
       "      <th>1</th>\n",
       "      <td>20171127</td>\n",
       "      <td></td>\n",
       "      <td></td>\n",
       "      <td>Top Start Date</td>\n",
       "      <td>Topline</td>\n",
       "    </tr>\n",
       "    <tr>\n",
       "      <th>2</th>\n",
       "      <td>20171130</td>\n",
       "      <td></td>\n",
       "      <td></td>\n",
       "      <td>Top End Date</td>\n",
       "      <td>Topline</td>\n",
       "    </tr>\n",
       "    <tr>\n",
       "      <th>3</th>\n",
       "      <td>3 Days</td>\n",
       "      <td></td>\n",
       "      <td></td>\n",
       "      <td>Top Duration</td>\n",
       "      <td>Topline</td>\n",
       "    </tr>\n",
       "    <tr>\n",
       "      <th>4</th>\n",
       "      <td>Email</td>\n",
       "      <td></td>\n",
       "      <td></td>\n",
       "      <td>Top Channel</td>\n",
       "      <td>Topline</td>\n",
       "    </tr>\n",
       "    <tr>\n",
       "      <th>5</th>\n",
       "      <td>17,223</td>\n",
       "      <td></td>\n",
       "      <td></td>\n",
       "      <td>Top Incremental Dollars</td>\n",
       "      <td>Topline</td>\n",
       "    </tr>\n",
       "    <tr>\n",
       "      <th>6</th>\n",
       "      <td>148.88%</td>\n",
       "      <td></td>\n",
       "      <td></td>\n",
       "      <td>Top Incremental Percent</td>\n",
       "      <td>Topline</td>\n",
       "    </tr>\n",
       "    <tr>\n",
       "      <th>7</th>\n",
       "      <td>28,791</td>\n",
       "      <td></td>\n",
       "      <td></td>\n",
       "      <td>Top Total Sales</td>\n",
       "      <td>Topline</td>\n",
       "    </tr>\n",
       "    <tr>\n",
       "      <th>8</th>\n",
       "      <td>6572</td>\n",
       "      <td></td>\n",
       "      <td></td>\n",
       "      <td>Top Target Population</td>\n",
       "      <td>Topline</td>\n",
       "    </tr>\n",
       "    <tr>\n",
       "      <th>9</th>\n",
       "      <td>91.32%</td>\n",
       "      <td></td>\n",
       "      <td></td>\n",
       "      <td>Top Target Percent</td>\n",
       "      <td>Topline</td>\n",
       "    </tr>\n",
       "    <tr>\n",
       "      <th>10</th>\n",
       "      <td>Members</td>\n",
       "      <td>69136</td>\n",
       "      <td>6572</td>\n",
       "      <td>Universe</td>\n",
       "      <td>Summary</td>\n",
       "    </tr>\n",
       "    <tr>\n",
       "      <th>11</th>\n",
       "      <td>Members</td>\n",
       "      <td>1469</td>\n",
       "      <td>315</td>\n",
       "      <td>Active Members</td>\n",
       "      <td>Summary</td>\n",
       "    </tr>\n",
       "    <tr>\n",
       "      <th>12</th>\n",
       "      <td>%</td>\n",
       "      <td>2.0%</td>\n",
       "      <td>5.0%</td>\n",
       "      <td>Active Rate</td>\n",
       "      <td>Summary</td>\n",
       "    </tr>\n",
       "    <tr>\n",
       "      <th>13</th>\n",
       "      <td>Euro</td>\n",
       "      <td>121698</td>\n",
       "      <td>28791</td>\n",
       "      <td>Total Sales</td>\n",
       "      <td>Summary</td>\n",
       "    </tr>\n",
       "    <tr>\n",
       "      <th>14</th>\n",
       "      <td>Number</td>\n",
       "      <td>1628</td>\n",
       "      <td>377</td>\n",
       "      <td>Total Transactions</td>\n",
       "      <td>Summary</td>\n",
       "    </tr>\n",
       "    <tr>\n",
       "      <th>15</th>\n",
       "      <td>Euro</td>\n",
       "      <td>14584</td>\n",
       "      <td>4316</td>\n",
       "      <td>Total Discount</td>\n",
       "      <td>Summary</td>\n",
       "    </tr>\n",
       "    <tr>\n",
       "      <th>16</th>\n",
       "      <td>Euro/Trans</td>\n",
       "      <td>75</td>\n",
       "      <td>76</td>\n",
       "      <td>ATV</td>\n",
       "      <td>Summary</td>\n",
       "    </tr>\n",
       "    <tr>\n",
       "      <th>17</th>\n",
       "      <td>Trans/Member</td>\n",
       "      <td>1.11</td>\n",
       "      <td>1.20</td>\n",
       "      <td>ATF</td>\n",
       "      <td>Summary</td>\n",
       "    </tr>\n",
       "    <tr>\n",
       "      <th>18</th>\n",
       "      <td>Euro/Member</td>\n",
       "      <td>83</td>\n",
       "      <td>91</td>\n",
       "      <td>ACV</td>\n",
       "      <td>Summary</td>\n",
       "    </tr>\n",
       "    <tr>\n",
       "      <th>19</th>\n",
       "      <td>Euro</td>\n",
       "      <td>17223</td>\n",
       "      <td></td>\n",
       "      <td>Incremental Sales</td>\n",
       "      <td>Summary</td>\n",
       "    </tr>\n",
       "    <tr>\n",
       "      <th>20</th>\n",
       "      <td>%</td>\n",
       "      <td>148.88%</td>\n",
       "      <td></td>\n",
       "      <td>Uplift</td>\n",
       "      <td>Summary</td>\n",
       "    </tr>\n",
       "    <tr>\n",
       "      <th>21</th>\n",
       "      <td>Members</td>\n",
       "      <td>69136</td>\n",
       "      <td>6572</td>\n",
       "      <td>Universe</td>\n",
       "      <td>Deep Analysis</td>\n",
       "    </tr>\n",
       "    <tr>\n",
       "      <th>22</th>\n",
       "      <td>Members</td>\n",
       "      <td>1469</td>\n",
       "      <td>315</td>\n",
       "      <td>Active Members</td>\n",
       "      <td>Deep Analysis</td>\n",
       "    </tr>\n",
       "    <tr>\n",
       "      <th>23</th>\n",
       "      <td>%</td>\n",
       "      <td>2.0%</td>\n",
       "      <td>5.0%</td>\n",
       "      <td>Active Rate</td>\n",
       "      <td>Deep Analysis</td>\n",
       "    </tr>\n",
       "    <tr>\n",
       "      <th>24</th>\n",
       "      <td>Euro</td>\n",
       "      <td>121698</td>\n",
       "      <td>28791</td>\n",
       "      <td>Total Sales</td>\n",
       "      <td>Deep Analysis</td>\n",
       "    </tr>\n",
       "    <tr>\n",
       "      <th>25</th>\n",
       "      <td>Number</td>\n",
       "      <td>1628</td>\n",
       "      <td>377</td>\n",
       "      <td>Total Transactions</td>\n",
       "      <td>Deep Analysis</td>\n",
       "    </tr>\n",
       "    <tr>\n",
       "      <th>26</th>\n",
       "      <td>Euro</td>\n",
       "      <td>14584</td>\n",
       "      <td>4316</td>\n",
       "      <td>Total Discount</td>\n",
       "      <td>Deep Analysis</td>\n",
       "    </tr>\n",
       "    <tr>\n",
       "      <th>27</th>\n",
       "      <td>Euro/Trans</td>\n",
       "      <td>75</td>\n",
       "      <td>76</td>\n",
       "      <td>ATV</td>\n",
       "      <td>Deep Analysis</td>\n",
       "    </tr>\n",
       "    <tr>\n",
       "      <th>28</th>\n",
       "      <td>Trans/Member</td>\n",
       "      <td>1.11</td>\n",
       "      <td>1.20</td>\n",
       "      <td>ATF</td>\n",
       "      <td>Deep Analysis</td>\n",
       "    </tr>\n",
       "    <tr>\n",
       "      <th>29</th>\n",
       "      <td>Euro/Member</td>\n",
       "      <td>83</td>\n",
       "      <td>91</td>\n",
       "      <td>ACV</td>\n",
       "      <td>Deep Analysis</td>\n",
       "    </tr>\n",
       "    <tr>\n",
       "      <th>30</th>\n",
       "      <td>Euro</td>\n",
       "      <td>702</td>\n",
       "      <td></td>\n",
       "      <td>Incremental Sales</td>\n",
       "      <td>Deep Analysis</td>\n",
       "    </tr>\n",
       "    <tr>\n",
       "      <th>31</th>\n",
       "      <td>%</td>\n",
       "      <td>2.50%</td>\n",
       "      <td></td>\n",
       "      <td>Uplift</td>\n",
       "      <td>Deep Analysis</td>\n",
       "    </tr>\n",
       "  </tbody>\n",
       "</table>\n",
       "</div>"
      ],
      "text/plain": [
       "                                   data dataControl dataTarget  \\\n",
       "0   MAT_1117_EC_Cybermonday (aswOP8303)                          \n",
       "1                              20171127                          \n",
       "2                              20171130                          \n",
       "3                                3 Days                          \n",
       "4                                 Email                          \n",
       "5                                17,223                          \n",
       "6                               148.88%                          \n",
       "7                                28,791                          \n",
       "8                                  6572                          \n",
       "9                                91.32%                          \n",
       "10                              Members       69136       6572   \n",
       "11                              Members        1469        315   \n",
       "12                                    %        2.0%       5.0%   \n",
       "13                                 Euro      121698      28791   \n",
       "14                               Number        1628        377   \n",
       "15                                 Euro       14584       4316   \n",
       "16                           Euro/Trans          75         76   \n",
       "17                         Trans/Member        1.11       1.20   \n",
       "18                          Euro/Member          83         91   \n",
       "19                                 Euro       17223              \n",
       "20                                    %     148.88%              \n",
       "21                              Members       69136       6572   \n",
       "22                              Members        1469        315   \n",
       "23                                    %        2.0%       5.0%   \n",
       "24                                 Euro      121698      28791   \n",
       "25                               Number        1628        377   \n",
       "26                                 Euro       14584       4316   \n",
       "27                           Euro/Trans          75         76   \n",
       "28                         Trans/Member        1.11       1.20   \n",
       "29                          Euro/Member          83         91   \n",
       "30                                 Euro         702              \n",
       "31                                    %       2.50%              \n",
       "\n",
       "                    metaKey       metaType  \n",
       "0         Top Campaign Name        Topline  \n",
       "1            Top Start Date        Topline  \n",
       "2              Top End Date        Topline  \n",
       "3             Top Duration         Topline  \n",
       "4               Top Channel        Topline  \n",
       "5   Top Incremental Dollars        Topline  \n",
       "6   Top Incremental Percent        Topline  \n",
       "7           Top Total Sales        Topline  \n",
       "8     Top Target Population        Topline  \n",
       "9        Top Target Percent        Topline  \n",
       "10                 Universe        Summary  \n",
       "11           Active Members        Summary  \n",
       "12              Active Rate        Summary  \n",
       "13              Total Sales        Summary  \n",
       "14       Total Transactions        Summary  \n",
       "15           Total Discount        Summary  \n",
       "16                      ATV        Summary  \n",
       "17                      ATF        Summary  \n",
       "18                      ACV        Summary  \n",
       "19        Incremental Sales        Summary  \n",
       "20                   Uplift        Summary  \n",
       "21                 Universe  Deep Analysis  \n",
       "22           Active Members  Deep Analysis  \n",
       "23              Active Rate  Deep Analysis  \n",
       "24              Total Sales  Deep Analysis  \n",
       "25       Total Transactions  Deep Analysis  \n",
       "26           Total Discount  Deep Analysis  \n",
       "27                      ATV  Deep Analysis  \n",
       "28                      ATF  Deep Analysis  \n",
       "29                      ACV  Deep Analysis  \n",
       "30        Incremental Sales  Deep Analysis  \n",
       "31                   Uplift  Deep Analysis  "
      ]
     },
     "execution_count": 183,
     "metadata": {},
     "output_type": "execute_result"
    }
   ],
   "source": [
    "cD = pd.DataFrame(campaignData)\n",
    "cD"
   ]
  },
  {
   "cell_type": "code",
   "execution_count": 184,
   "metadata": {},
   "outputs": [],
   "source": [
    "#Create independant vars for stacked bar out of dataframe\n",
    "controlACV=pACV.iloc[0]['Control']\n",
    "targetACV=pACV.iloc[0]['Target']\n",
    "controlATV=pATV.iloc[0]['Control']\n",
    "targetATV=pATV.iloc[0]['Target']\n",
    "controlATF=pATF.iloc[0]['Control']\n",
    "targetATF=pATF.iloc[0]['Target']"
   ]
  },
  {
   "cell_type": "code",
   "execution_count": 185,
   "metadata": {},
   "outputs": [
    {
     "name": "stdout",
     "output_type": "stream",
     "text": [
      "mkdir: clcm-test: File exists\n",
      "Writing 'controlACV' (float64) to file 'clcm-test/controlACV.txt'.\n",
      "Writing 'targetACV' (float64) to file 'clcm-test/targetACV.txt'.\n",
      "Writing 'controlATV' (float64) to file 'clcm-test/controlATV.txt'.\n",
      "Writing 'targetATV' (float64) to file 'clcm-test/targetATV.txt'.\n",
      "Writing 'controlATF' (float64) to file 'clcm-test/controlATF.txt'.\n",
      "Writing 'targetATF' (float64) to file 'clcm-test/targetATF.txt'.\n"
     ]
    }
   ],
   "source": [
    "#Make a dir + dump all your resource files\n",
    "%mkdir clcm-test\n",
    "\n",
    "#JSON\n",
    "dS.to_json(\"clcm-test/json-1.json\", orient=\"records\")\n",
    "sS.to_json(\"clcm-test/json-2.json\", orient=\"records\")\n",
    "cD.to_json(\"clcm-test/json-3.json\", orient=\"records\")\n",
    "\n",
    "#Stacked bar data .txt\n",
    "%store controlACV > clcm-test/controlACV.txt\n",
    "%store targetACV > clcm-test/targetACV.txt\n",
    "%store controlATV > clcm-test/controlATV.txt\n",
    "%store targetATV > clcm-test/targetATV.txt\n",
    "%store controlATF > clcm-test/controlATF.txt\n",
    "%store targetATF > clcm-test/targetATF.txt"
   ]
  },
  {
   "cell_type": "code",
   "execution_count": 186,
   "metadata": {},
   "outputs": [],
   "source": [
    "#Downloads HTML files, concatnates JSON and adds stacked bar charts ↓"
   ]
  },
  {
   "cell_type": "code",
   "execution_count": 187,
   "metadata": {},
   "outputs": [
    {
     "name": "stderr",
     "output_type": "stream",
     "text": [
      "  % Total    % Received % Xferd  Average Speed   Time    Time     Time  Current\n",
      "                                 Dload  Upload   Total   Spent    Left  Speed\n",
      "\r",
      "  0     0    0     0    0     0      0      0 --:--:-- --:--:-- --:--:--     0\r",
      " 30  973k   30  298k    0     0   327k      0  0:00:02 --:--:--  0:00:02  363k\r",
      "100  973k  100  973k    0     0   758k      0  0:00:01  0:00:01 --:--:--  816k\n",
      "  % Total    % Received % Xferd  Average Speed   Time    Time     Time  Current\n",
      "                                 Dload  Upload   Total   Spent    Left  Speed\n",
      "\r",
      "  0     0    0     0    0     0      0      0 --:--:-- --:--:-- --:--:--     0\r",
      "100   936  100   936    0     0   4854      0 --:--:-- --:--:-- --:--:--  5005\n",
      "  % Total    % Received % Xferd  Average Speed   Time    Time     Time  Current\n",
      "                                 Dload  Upload   Total   Spent    Left  Speed\n",
      "\r",
      "  0     0    0     0    0     0      0      0 --:--:-- --:--:-- --:--:--     0\r",
      "100  3455  100  3455    0     0  19988      0 --:--:-- --:--:-- --:--:-- 20813\n",
      "  % Total    % Received % Xferd  Average Speed   Time    Time     Time  Current\n",
      "                                 Dload  Upload   Total   Spent    Left  Speed\n",
      "\r",
      "  0     0    0     0    0     0      0      0 --:--:-- --:--:-- --:--:--     0\r",
      "  0     0    0     0    0     0      0      0 --:--:-- --:--:-- --:--:--     0\r",
      "100    32  100    32    0     0    129      0 --:--:-- --:--:-- --:--:--   131\n"
     ]
    }
   ],
   "source": [
    "%%bash\n",
    "mkdir -p clcm-test\n",
    "cd clcm-test\n",
    "curl \"http://ux.rubikloud.com/assets/dev/clcm-test/clcm-1.html\" -O \n",
    "curl \"http://ux.rubikloud.com/assets/dev/clcm-test/clcm-2.html\" -O \n",
    "curl \"http://ux.rubikloud.com/assets/dev/clcm-test/clcm-3.html\" -O \n",
    "curl \"http://ux.rubikloud.com/assets/dev/clcm-test/clcm-4.html\" -O \n",
    "cat clcm-1.html json-1.json clcm-2.html json-2.json clcm-3.html json-3.json clcm-4.html > -clcm-export.html"
   ]
  },
  {
   "cell_type": "code",
   "execution_count": 188,
   "metadata": {},
   "outputs": [],
   "source": [
    "%%bash\n",
    "mkdir -p clcm-test\n",
    "cd clcm-test\n",
    "\n",
    "sed -i.bk-orig '/%%acv-target%%/{\n",
    "    s/%%acv-target%%//g\n",
    "    r targetACV.txt\n",
    "}' -clcm-export.html\n",
    "\n",
    "sed -i.bk '/%%acv-control%%/{\n",
    "    s/%%acv-control%%//g\n",
    "    r controlACV.txt\n",
    "}' -clcm-export.html\n",
    "\n",
    "sed -i.bk '/%%atv-target%%/{\n",
    "    s/%%atv-target%%//g\n",
    "    r targetATV.txt\n",
    "}' -clcm-export.html\n",
    "\n",
    "sed -i.bk '/%%atv-control%%/{\n",
    "    s/%%atv-control%%//g\n",
    "    r controlATV.txt\n",
    "}' -clcm-export.html\n",
    "\n",
    "sed -i.bk '/%%atf-target%%/{\n",
    "    s/%%atf-target%%//g\n",
    "    r targetATF.txt\n",
    "}' -clcm-export.html\n",
    "\n",
    "sed -i.bk '/%%atf-control%%/{\n",
    "    s/%%atf-control%%//g\n",
    "    r controlATF.txt\n",
    "}' -clcm-export.html"
   ]
  },
  {
   "cell_type": "code",
   "execution_count": null,
   "metadata": {},
   "outputs": [],
   "source": []
  },
  {
   "cell_type": "code",
   "execution_count": null,
   "metadata": {},
   "outputs": [],
   "source": []
  }
 ],
 "metadata": {
  "extensions": {
   "jupyter_dashboards": {
    "activeView": "grid_default",
    "version": 1,
    "views": {
     "grid_default": {
      "cellMargin": 10,
      "defaultCellHeight": 20,
      "maxColumns": 12,
      "name": "grid",
      "type": "grid"
     },
     "report_default": {
      "name": "report",
      "type": "report"
     }
    }
   }
  },
  "kernelspec": {
   "display_name": "Python 3",
   "language": "python",
   "name": "python3"
  },
  "language_info": {
   "codemirror_mode": {
    "name": "ipython",
    "version": 3
   },
   "file_extension": ".py",
   "mimetype": "text/x-python",
   "name": "python",
   "nbconvert_exporter": "python",
   "pygments_lexer": "ipython3",
   "version": "3.6.3"
  }
 },
 "nbformat": 4,
 "nbformat_minor": 2
}
